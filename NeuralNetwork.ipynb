{
 "cells": [
  {
   "cell_type": "markdown",
   "metadata": {},
   "source": [
    "# 1. Importing dataset and feature selection"
   ]
  },
  {
   "cell_type": "code",
   "execution_count": 1,
   "metadata": {},
   "outputs": [
    {
     "data": {
      "text/html": [
       "<div>\n",
       "<style scoped>\n",
       "    .dataframe tbody tr th:only-of-type {\n",
       "        vertical-align: middle;\n",
       "    }\n",
       "\n",
       "    .dataframe tbody tr th {\n",
       "        vertical-align: top;\n",
       "    }\n",
       "\n",
       "    .dataframe thead th {\n",
       "        text-align: right;\n",
       "    }\n",
       "</style>\n",
       "<table border=\"1\" class=\"dataframe\">\n",
       "  <thead>\n",
       "    <tr style=\"text-align: right;\">\n",
       "      <th></th>\n",
       "      <th>Temperature</th>\n",
       "      <th>Humidity</th>\n",
       "      <th>PM2.5</th>\n",
       "      <th>PM10</th>\n",
       "      <th>NO2</th>\n",
       "      <th>SO2</th>\n",
       "      <th>CO</th>\n",
       "      <th>Proximity_to_Industrial_Areas</th>\n",
       "      <th>Population_Density</th>\n",
       "      <th>Air Quality</th>\n",
       "    </tr>\n",
       "  </thead>\n",
       "  <tbody>\n",
       "    <tr>\n",
       "      <th>0</th>\n",
       "      <td>29.8</td>\n",
       "      <td>59.1</td>\n",
       "      <td>5.2</td>\n",
       "      <td>17.9</td>\n",
       "      <td>18.9</td>\n",
       "      <td>9.2</td>\n",
       "      <td>1.72</td>\n",
       "      <td>6.3</td>\n",
       "      <td>319</td>\n",
       "      <td>Moderate</td>\n",
       "    </tr>\n",
       "    <tr>\n",
       "      <th>1</th>\n",
       "      <td>28.3</td>\n",
       "      <td>75.6</td>\n",
       "      <td>2.3</td>\n",
       "      <td>12.2</td>\n",
       "      <td>30.8</td>\n",
       "      <td>9.7</td>\n",
       "      <td>1.64</td>\n",
       "      <td>6.0</td>\n",
       "      <td>611</td>\n",
       "      <td>Moderate</td>\n",
       "    </tr>\n",
       "    <tr>\n",
       "      <th>2</th>\n",
       "      <td>23.1</td>\n",
       "      <td>74.7</td>\n",
       "      <td>26.7</td>\n",
       "      <td>33.8</td>\n",
       "      <td>24.4</td>\n",
       "      <td>12.6</td>\n",
       "      <td>1.63</td>\n",
       "      <td>5.2</td>\n",
       "      <td>619</td>\n",
       "      <td>Moderate</td>\n",
       "    </tr>\n",
       "    <tr>\n",
       "      <th>3</th>\n",
       "      <td>27.1</td>\n",
       "      <td>39.1</td>\n",
       "      <td>6.1</td>\n",
       "      <td>6.3</td>\n",
       "      <td>13.5</td>\n",
       "      <td>5.3</td>\n",
       "      <td>1.15</td>\n",
       "      <td>11.1</td>\n",
       "      <td>551</td>\n",
       "      <td>Good</td>\n",
       "    </tr>\n",
       "    <tr>\n",
       "      <th>4</th>\n",
       "      <td>26.5</td>\n",
       "      <td>70.7</td>\n",
       "      <td>6.9</td>\n",
       "      <td>16.0</td>\n",
       "      <td>21.9</td>\n",
       "      <td>5.6</td>\n",
       "      <td>1.01</td>\n",
       "      <td>12.7</td>\n",
       "      <td>303</td>\n",
       "      <td>Good</td>\n",
       "    </tr>\n",
       "  </tbody>\n",
       "</table>\n",
       "</div>"
      ],
      "text/plain": [
       "   Temperature  Humidity  PM2.5  PM10   NO2   SO2    CO  \\\n",
       "0         29.8      59.1    5.2  17.9  18.9   9.2  1.72   \n",
       "1         28.3      75.6    2.3  12.2  30.8   9.7  1.64   \n",
       "2         23.1      74.7   26.7  33.8  24.4  12.6  1.63   \n",
       "3         27.1      39.1    6.1   6.3  13.5   5.3  1.15   \n",
       "4         26.5      70.7    6.9  16.0  21.9   5.6  1.01   \n",
       "\n",
       "   Proximity_to_Industrial_Areas  Population_Density Air Quality  \n",
       "0                            6.3                 319    Moderate  \n",
       "1                            6.0                 611    Moderate  \n",
       "2                            5.2                 619    Moderate  \n",
       "3                           11.1                 551        Good  \n",
       "4                           12.7                 303        Good  "
      ]
     },
     "execution_count": 1,
     "metadata": {},
     "output_type": "execute_result"
    }
   ],
   "source": [
    "import pandas as pd\n",
    "\n",
    "df = pd.read_csv('updated_pollution_dataset.csv')\n",
    "df.head()"
   ]
  },
  {
   "cell_type": "code",
   "execution_count": 2,
   "metadata": {},
   "outputs": [
    {
     "data": {
      "text/html": [
       "<div>\n",
       "<style scoped>\n",
       "    .dataframe tbody tr th:only-of-type {\n",
       "        vertical-align: middle;\n",
       "    }\n",
       "\n",
       "    .dataframe tbody tr th {\n",
       "        vertical-align: top;\n",
       "    }\n",
       "\n",
       "    .dataframe thead th {\n",
       "        text-align: right;\n",
       "    }\n",
       "</style>\n",
       "<table border=\"1\" class=\"dataframe\">\n",
       "  <thead>\n",
       "    <tr style=\"text-align: right;\">\n",
       "      <th></th>\n",
       "      <th>Temperature</th>\n",
       "      <th>Humidity</th>\n",
       "      <th>PM2.5</th>\n",
       "      <th>PM10</th>\n",
       "      <th>NO2</th>\n",
       "      <th>SO2</th>\n",
       "      <th>CO</th>\n",
       "      <th>Proximity_to_Industrial_Areas</th>\n",
       "      <th>Population_Density</th>\n",
       "      <th>Air Quality</th>\n",
       "    </tr>\n",
       "  </thead>\n",
       "  <tbody>\n",
       "    <tr>\n",
       "      <th>0</th>\n",
       "      <td>29.8</td>\n",
       "      <td>59.1</td>\n",
       "      <td>5.2</td>\n",
       "      <td>17.9</td>\n",
       "      <td>18.9</td>\n",
       "      <td>9.2</td>\n",
       "      <td>1.72</td>\n",
       "      <td>6.3</td>\n",
       "      <td>319</td>\n",
       "      <td>2</td>\n",
       "    </tr>\n",
       "    <tr>\n",
       "      <th>1</th>\n",
       "      <td>28.3</td>\n",
       "      <td>75.6</td>\n",
       "      <td>2.3</td>\n",
       "      <td>12.2</td>\n",
       "      <td>30.8</td>\n",
       "      <td>9.7</td>\n",
       "      <td>1.64</td>\n",
       "      <td>6.0</td>\n",
       "      <td>611</td>\n",
       "      <td>2</td>\n",
       "    </tr>\n",
       "    <tr>\n",
       "      <th>2</th>\n",
       "      <td>23.1</td>\n",
       "      <td>74.7</td>\n",
       "      <td>26.7</td>\n",
       "      <td>33.8</td>\n",
       "      <td>24.4</td>\n",
       "      <td>12.6</td>\n",
       "      <td>1.63</td>\n",
       "      <td>5.2</td>\n",
       "      <td>619</td>\n",
       "      <td>2</td>\n",
       "    </tr>\n",
       "    <tr>\n",
       "      <th>3</th>\n",
       "      <td>27.1</td>\n",
       "      <td>39.1</td>\n",
       "      <td>6.1</td>\n",
       "      <td>6.3</td>\n",
       "      <td>13.5</td>\n",
       "      <td>5.3</td>\n",
       "      <td>1.15</td>\n",
       "      <td>11.1</td>\n",
       "      <td>551</td>\n",
       "      <td>0</td>\n",
       "    </tr>\n",
       "    <tr>\n",
       "      <th>4</th>\n",
       "      <td>26.5</td>\n",
       "      <td>70.7</td>\n",
       "      <td>6.9</td>\n",
       "      <td>16.0</td>\n",
       "      <td>21.9</td>\n",
       "      <td>5.6</td>\n",
       "      <td>1.01</td>\n",
       "      <td>12.7</td>\n",
       "      <td>303</td>\n",
       "      <td>0</td>\n",
       "    </tr>\n",
       "    <tr>\n",
       "      <th>5</th>\n",
       "      <td>39.4</td>\n",
       "      <td>96.6</td>\n",
       "      <td>14.6</td>\n",
       "      <td>35.5</td>\n",
       "      <td>42.9</td>\n",
       "      <td>17.9</td>\n",
       "      <td>1.82</td>\n",
       "      <td>3.1</td>\n",
       "      <td>674</td>\n",
       "      <td>1</td>\n",
       "    </tr>\n",
       "    <tr>\n",
       "      <th>6</th>\n",
       "      <td>41.7</td>\n",
       "      <td>82.5</td>\n",
       "      <td>1.7</td>\n",
       "      <td>15.8</td>\n",
       "      <td>31.1</td>\n",
       "      <td>12.7</td>\n",
       "      <td>1.80</td>\n",
       "      <td>4.6</td>\n",
       "      <td>735</td>\n",
       "      <td>3</td>\n",
       "    </tr>\n",
       "    <tr>\n",
       "      <th>7</th>\n",
       "      <td>31.0</td>\n",
       "      <td>59.6</td>\n",
       "      <td>5.0</td>\n",
       "      <td>16.8</td>\n",
       "      <td>24.2</td>\n",
       "      <td>13.6</td>\n",
       "      <td>1.38</td>\n",
       "      <td>6.3</td>\n",
       "      <td>443</td>\n",
       "      <td>2</td>\n",
       "    </tr>\n",
       "    <tr>\n",
       "      <th>8</th>\n",
       "      <td>29.4</td>\n",
       "      <td>93.8</td>\n",
       "      <td>10.3</td>\n",
       "      <td>22.7</td>\n",
       "      <td>45.1</td>\n",
       "      <td>11.8</td>\n",
       "      <td>2.03</td>\n",
       "      <td>5.4</td>\n",
       "      <td>486</td>\n",
       "      <td>3</td>\n",
       "    </tr>\n",
       "    <tr>\n",
       "      <th>9</th>\n",
       "      <td>33.2</td>\n",
       "      <td>80.5</td>\n",
       "      <td>11.1</td>\n",
       "      <td>24.4</td>\n",
       "      <td>32.0</td>\n",
       "      <td>15.3</td>\n",
       "      <td>1.69</td>\n",
       "      <td>4.9</td>\n",
       "      <td>535</td>\n",
       "      <td>3</td>\n",
       "    </tr>\n",
       "  </tbody>\n",
       "</table>\n",
       "</div>"
      ],
      "text/plain": [
       "   Temperature  Humidity  PM2.5  PM10   NO2   SO2    CO  \\\n",
       "0         29.8      59.1    5.2  17.9  18.9   9.2  1.72   \n",
       "1         28.3      75.6    2.3  12.2  30.8   9.7  1.64   \n",
       "2         23.1      74.7   26.7  33.8  24.4  12.6  1.63   \n",
       "3         27.1      39.1    6.1   6.3  13.5   5.3  1.15   \n",
       "4         26.5      70.7    6.9  16.0  21.9   5.6  1.01   \n",
       "5         39.4      96.6   14.6  35.5  42.9  17.9  1.82   \n",
       "6         41.7      82.5    1.7  15.8  31.1  12.7  1.80   \n",
       "7         31.0      59.6    5.0  16.8  24.2  13.6  1.38   \n",
       "8         29.4      93.8   10.3  22.7  45.1  11.8  2.03   \n",
       "9         33.2      80.5   11.1  24.4  32.0  15.3  1.69   \n",
       "\n",
       "   Proximity_to_Industrial_Areas  Population_Density  Air Quality  \n",
       "0                            6.3                 319            2  \n",
       "1                            6.0                 611            2  \n",
       "2                            5.2                 619            2  \n",
       "3                           11.1                 551            0  \n",
       "4                           12.7                 303            0  \n",
       "5                            3.1                 674            1  \n",
       "6                            4.6                 735            3  \n",
       "7                            6.3                 443            2  \n",
       "8                            5.4                 486            3  \n",
       "9                            4.9                 535            3  "
      ]
     },
     "execution_count": 2,
     "metadata": {},
     "output_type": "execute_result"
    }
   ],
   "source": [
    "from sklearn.preprocessing import LabelEncoder\n",
    "encoder = LabelEncoder()\n",
    "df['Air Quality'] = encoder.fit_transform(df['Air Quality'])\n",
    "df.head(10)"
   ]
  },
  {
   "cell_type": "code",
   "execution_count": 3,
   "metadata": {},
   "outputs": [],
   "source": [
    "X = df.drop(columns=['Air Quality'])\n",
    "y = df['Air Quality']"
   ]
  },
  {
   "cell_type": "code",
   "execution_count": 4,
   "metadata": {},
   "outputs": [],
   "source": [
    "import torch\n",
    "\n",
    "X = torch.Tensor(X.to_numpy(float))\n",
    "y = torch.Tensor(y.to_numpy(float))"
   ]
  },
  {
   "cell_type": "code",
   "execution_count": 5,
   "metadata": {},
   "outputs": [
    {
     "data": {
      "text/plain": [
       "tensor([[ 29.8000,  59.1000,   5.2000,  ...,   1.7200,   6.3000, 319.0000],\n",
       "        [ 28.3000,  75.6000,   2.3000,  ...,   1.6400,   6.0000, 611.0000],\n",
       "        [ 23.1000,  74.7000,  26.7000,  ...,   1.6300,   5.2000, 619.0000],\n",
       "        ...,\n",
       "        [ 25.9000,  78.2000,  14.2000,  ...,   1.6300,   9.6000, 379.0000],\n",
       "        [ 25.3000,  44.4000,  21.4000,  ...,   0.8900,  11.6000, 241.0000],\n",
       "        [ 24.1000,  77.9000,  81.7000,  ...,   1.3800,   8.3000, 461.0000]])"
      ]
     },
     "execution_count": 5,
     "metadata": {},
     "output_type": "execute_result"
    }
   ],
   "source": [
    "X"
   ]
  },
  {
   "cell_type": "code",
   "execution_count": 6,
   "metadata": {},
   "outputs": [
    {
     "data": {
      "text/plain": [
       "tensor([2., 2., 2.,  ..., 2., 0., 2.])"
      ]
     },
     "execution_count": 6,
     "metadata": {},
     "output_type": "execute_result"
    }
   ],
   "source": [
    "y"
   ]
  },
  {
   "cell_type": "code",
   "execution_count": 7,
   "metadata": {},
   "outputs": [],
   "source": [
    "from sklearn.model_selection import train_test_split\n",
    "\n",
    "X_train, X_test, y_train, y_test = train_test_split(X, y, random_state=42)"
   ]
  },
  {
   "cell_type": "code",
   "execution_count": 8,
   "metadata": {},
   "outputs": [
    {
     "data": {
      "text/plain": [
       "(torch.Size([3750, 9]),\n",
       " torch.Size([1250, 9]),\n",
       " torch.Size([3750]),\n",
       " torch.Size([1250]))"
      ]
     },
     "execution_count": 8,
     "metadata": {},
     "output_type": "execute_result"
    }
   ],
   "source": [
    "X_train.shape, X_test.shape, y_train.shape, y_test.shape"
   ]
  },
  {
   "cell_type": "code",
   "execution_count": 9,
   "metadata": {},
   "outputs": [],
   "source": [
    "X_train = (X_train - X_train.mean()) / X_train.std()\n",
    "X_test = (X_test - X_test.mean()) / X_test.std()"
   ]
  },
  {
   "cell_type": "code",
   "execution_count": 10,
   "metadata": {},
   "outputs": [
    {
     "data": {
      "text/plain": [
       "tensor([[-0.3331, -0.0930, -0.4789,  ..., -0.4790, -0.4173,  3.0778],\n",
       "        [-0.3180, -0.0760, -0.4688,  ..., -0.4794, -0.4160,  2.7195],\n",
       "        [-0.3375, -0.1596, -0.4167,  ..., -0.4783, -0.4098,  2.4933],\n",
       "        ...,\n",
       "        [-0.3337, -0.0609, -0.3639,  ..., -0.4738, -0.4468,  2.1664],\n",
       "        [-0.3513, -0.0056, -0.3896,  ..., -0.4798, -0.3834,  2.1539],\n",
       "        [-0.2696,  0.1622, -0.3023,  ..., -0.4646, -0.4625,  3.3731]])"
      ]
     },
     "execution_count": 10,
     "metadata": {},
     "output_type": "execute_result"
    }
   ],
   "source": [
    "X_train"
   ]
  },
  {
   "cell_type": "code",
   "execution_count": 11,
   "metadata": {},
   "outputs": [
    {
     "data": {
      "text/plain": [
       "tensor([[-0.2872, -0.0206, -0.0244,  ..., -0.4693, -0.4689,  4.2952],\n",
       "        [-0.3334, -0.0497, -0.4803,  ..., -0.4780, -0.4189,  1.0026],\n",
       "        [-0.3245,  0.0123, -0.4594,  ..., -0.4765, -0.4214,  2.9529],\n",
       "        ...,\n",
       "        [-0.2777,  0.0383, -0.4575,  ..., -0.4754, -0.4524,  1.5535],\n",
       "        [-0.3701, -0.2163, -0.4847,  ..., -0.4792, -0.4119,  1.4902],\n",
       "        [-0.3296, -0.0922, -0.2960,  ..., -0.4802, -0.4201,  1.0849]])"
      ]
     },
     "execution_count": 11,
     "metadata": {},
     "output_type": "execute_result"
    }
   ],
   "source": [
    "X_test"
   ]
  },
  {
   "cell_type": "markdown",
   "metadata": {},
   "source": [
    "# 2. Neural Network"
   ]
  },
  {
   "cell_type": "markdown",
   "metadata": {},
   "source": [
    "## 2.1 Building a base model"
   ]
  },
  {
   "cell_type": "code",
   "execution_count": 12,
   "metadata": {},
   "outputs": [
    {
     "data": {
      "text/plain": [
       "'cuda'"
      ]
     },
     "execution_count": 12,
     "metadata": {},
     "output_type": "execute_result"
    }
   ],
   "source": [
    "import torch\n",
    "\n",
    "device = \"cuda\" if torch.cuda.is_available() else \"cpu\"\n",
    "device"
   ]
  },
  {
   "cell_type": "code",
   "execution_count": 13,
   "metadata": {},
   "outputs": [
    {
     "data": {
      "text/plain": [
       "Air_Quality(\n",
       "  (layers): Sequential(\n",
       "    (0): Linear(in_features=9, out_features=8, bias=True)\n",
       "    (1): ReLU()\n",
       "    (2): Linear(in_features=8, out_features=8, bias=True)\n",
       "    (3): ReLU()\n",
       "    (4): Linear(in_features=8, out_features=8, bias=True)\n",
       "    (5): ReLU()\n",
       "    (6): Linear(in_features=8, out_features=4, bias=True)\n",
       "  )\n",
       ")"
      ]
     },
     "execution_count": 13,
     "metadata": {},
     "output_type": "execute_result"
    }
   ],
   "source": [
    "from torch import nn\n",
    "\n",
    "class Air_Quality(nn.Module):\n",
    "    def __init__(self, input_features, output_features, hidden_units=8):\n",
    "        super().__init__()\n",
    "        self.layers = nn.Sequential(\n",
    "            nn.Linear(in_features=input_features, out_features=hidden_units),\n",
    "            nn.ReLU(),\n",
    "            nn.Linear(in_features=hidden_units, out_features=hidden_units),\n",
    "            nn.ReLU(),\n",
    "            nn.Linear(in_features=hidden_units, out_features=hidden_units),\n",
    "            nn.ReLU(),\n",
    "            nn.Linear(in_features=hidden_units, out_features=output_features)\n",
    "        )\n",
    "        \n",
    "    def forward(self, x):\n",
    "        return self.layers(x)\n",
    "    \n",
    "model = Air_Quality(input_features=X_train.shape[1], output_features=len(y.unique()))\n",
    "model"
   ]
  },
  {
   "cell_type": "markdown",
   "metadata": {},
   "source": [
    "## 2.2 Loss function, Optimizer and Accuracy function"
   ]
  },
  {
   "cell_type": "code",
   "execution_count": 14,
   "metadata": {},
   "outputs": [],
   "source": [
    "loss_fn = nn.CrossEntropyLoss()\n",
    "optimizer = torch.optim.Adam(params=model.parameters(), lr=0.005)"
   ]
  },
  {
   "cell_type": "code",
   "execution_count": 15,
   "metadata": {},
   "outputs": [
    {
     "data": {
      "text/plain": [
       "('torch.FloatTensor',\n",
       " 'torch.FloatTensor',\n",
       " 'torch.FloatTensor',\n",
       " 'torch.FloatTensor')"
      ]
     },
     "execution_count": 15,
     "metadata": {},
     "output_type": "execute_result"
    }
   ],
   "source": [
    "X_train.type(), X_test.type(), y_train.type(), y_test.type() "
   ]
  },
  {
   "cell_type": "code",
   "execution_count": 16,
   "metadata": {},
   "outputs": [],
   "source": [
    "y_train = y_train.long()\n",
    "y_test = y_test.long()"
   ]
  },
  {
   "cell_type": "markdown",
   "metadata": {},
   "source": [
    "The predictable variable has to be of type `long` because `CrossEntropyLoss()` expects it to be scalars(long)"
   ]
  },
  {
   "cell_type": "code",
   "execution_count": 17,
   "metadata": {},
   "outputs": [
    {
     "data": {
      "text/plain": [
       "<bound method Module.parameters of Air_Quality(\n",
       "  (layers): Sequential(\n",
       "    (0): Linear(in_features=9, out_features=8, bias=True)\n",
       "    (1): ReLU()\n",
       "    (2): Linear(in_features=8, out_features=8, bias=True)\n",
       "    (3): ReLU()\n",
       "    (4): Linear(in_features=8, out_features=8, bias=True)\n",
       "    (5): ReLU()\n",
       "    (6): Linear(in_features=8, out_features=4, bias=True)\n",
       "  )\n",
       ")>"
      ]
     },
     "execution_count": 17,
     "metadata": {},
     "output_type": "execute_result"
    }
   ],
   "source": [
    "model.parameters"
   ]
  },
  {
   "cell_type": "code",
   "execution_count": 18,
   "metadata": {},
   "outputs": [],
   "source": [
    "def accuracy_fn(y_true, y_pred):\n",
    "    correct = torch.eq(y_true, y_pred).sum().item()\n",
    "    acc = (correct/len(y_pred)) * 100\n",
    "    return acc"
   ]
  },
  {
   "cell_type": "markdown",
   "metadata": {},
   "source": [
    "# 3. Training the model"
   ]
  },
  {
   "cell_type": "code",
   "execution_count": 19,
   "metadata": {},
   "outputs": [
    {
     "name": "stdout",
     "output_type": "stream",
     "text": [
      "Epoch:0: Loss:1.38 | Accuracy:29.84 | Test loss:1.37 | Test Accuracy:30.48\n",
      "Epoch:100: Loss:0.97 | Accuracy:52.37 | Test loss:0.95 | Test Accuracy:54.56\n",
      "Epoch:200: Loss:0.33 | Accuracy:86.96 | Test loss:0.33 | Test Accuracy:87.12\n",
      "Epoch:300: Loss:0.28 | Accuracy:88.37 | Test loss:0.28 | Test Accuracy:88.80\n",
      "Epoch:400: Loss:0.27 | Accuracy:88.96 | Test loss:0.26 | Test Accuracy:89.36\n",
      "Epoch:500: Loss:0.26 | Accuracy:89.47 | Test loss:0.26 | Test Accuracy:89.60\n",
      "Epoch:600: Loss:0.26 | Accuracy:89.63 | Test loss:0.25 | Test Accuracy:89.68\n",
      "Epoch:700: Loss:0.25 | Accuracy:89.89 | Test loss:0.25 | Test Accuracy:89.76\n",
      "Epoch:800: Loss:0.25 | Accuracy:89.73 | Test loss:0.24 | Test Accuracy:90.64\n",
      "Epoch:900: Loss:0.25 | Accuracy:90.24 | Test loss:0.24 | Test Accuracy:90.32\n",
      "Epoch:1000: Loss:0.25 | Accuracy:90.29 | Test loss:0.24 | Test Accuracy:90.56\n",
      "Epoch:1100: Loss:0.25 | Accuracy:90.43 | Test loss:0.24 | Test Accuracy:90.72\n",
      "Epoch:1200: Loss:0.24 | Accuracy:90.40 | Test loss:0.23 | Test Accuracy:90.88\n",
      "Epoch:1300: Loss:0.24 | Accuracy:90.56 | Test loss:0.24 | Test Accuracy:90.40\n",
      "Epoch:1400: Loss:0.24 | Accuracy:90.69 | Test loss:0.24 | Test Accuracy:90.48\n",
      "Epoch:1500: Loss:0.24 | Accuracy:90.80 | Test loss:0.24 | Test Accuracy:90.40\n",
      "Epoch:1600: Loss:0.24 | Accuracy:90.80 | Test loss:0.24 | Test Accuracy:90.64\n",
      "Epoch:1700: Loss:0.24 | Accuracy:90.83 | Test loss:0.23 | Test Accuracy:90.96\n",
      "Epoch:1800: Loss:0.24 | Accuracy:90.77 | Test loss:0.24 | Test Accuracy:90.80\n",
      "Epoch:1900: Loss:0.24 | Accuracy:90.88 | Test loss:0.23 | Test Accuracy:90.88\n",
      "Epoch:2000: Loss:0.24 | Accuracy:90.91 | Test loss:0.23 | Test Accuracy:91.12\n"
     ]
    }
   ],
   "source": [
    "torch.cuda.manual_seed(42)\n",
    "\n",
    "epochs = 2001\n",
    "\n",
    "for epoch in range(epochs):\n",
    "    model.train()\n",
    "    \n",
    "    y_logits = model(X_train)\n",
    "    y_pred = y_logits.argmax(dim=1)\n",
    "    \n",
    "    loss = loss_fn(y_logits, y_train)\n",
    "    acc = accuracy_fn(y_train, y_pred)\n",
    "    \n",
    "    optimizer.zero_grad()\n",
    "    loss.backward()\n",
    "    \n",
    "    optimizer.step()\n",
    "    \n",
    "    model.eval()\n",
    "    with torch.inference_mode():\n",
    "        test_logits = model(X_test)\n",
    "        test_pred = test_logits.argmax(dim=1)\n",
    "        \n",
    "        test_loss = loss_fn(test_logits, y_test)\n",
    "        test_acc = accuracy_fn(y_test, test_pred)\n",
    "        \n",
    "        \n",
    "    if epoch % 100 == 0:\n",
    "        print(f\"Epoch:{epoch}: Loss:{loss:.2f} | Accuracy:{acc:.2f} | Test loss:{test_loss:.2f} | Test Accuracy:{test_acc:.2f}\")"
   ]
  },
  {
   "cell_type": "markdown",
   "metadata": {},
   "source": [
    "The model performs good! But we could fine tune this base model"
   ]
  },
  {
   "cell_type": "markdown",
   "metadata": {},
   "source": [
    "# 4. Fine-Tuning the model"
   ]
  },
  {
   "cell_type": "markdown",
   "metadata": {},
   "source": [
    "## 4.1 Architecture Definition"
   ]
  },
  {
   "cell_type": "code",
   "execution_count": 20,
   "metadata": {},
   "outputs": [],
   "source": [
    "class Air_Quality(nn.Module):\n",
    "    def __init__(self, input_features, output_features, hidden_units=16):\n",
    "        super().__init__()\n",
    "        self.layers = nn.Sequential(\n",
    "            nn.Linear(in_features=input_features, out_features=hidden_units),\n",
    "            nn.BatchNorm1d(num_features=hidden_units),\n",
    "            nn.ReLU(),\n",
    "            nn.Dropout(0.1),  \n",
    "            nn.Linear(in_features=hidden_units, out_features=hidden_units),\n",
    "            nn.BatchNorm1d(num_features=hidden_units),\n",
    "            nn.ReLU(),\n",
    "            nn.Dropout(0.1),\n",
    "            nn.Linear(in_features=hidden_units, out_features=hidden_units),\n",
    "            nn.ReLU(),\n",
    "            nn.Linear(in_features=hidden_units, out_features=output_features)\n",
    "        )\n",
    "\n",
    "    def forward(self, x):\n",
    "        return self.layers(x)\n",
    "\n",
    "model2 = Air_Quality(input_features=X_train.shape[1], output_features=len(y.unique()))"
   ]
  },
  {
   "cell_type": "code",
   "execution_count": 21,
   "metadata": {},
   "outputs": [],
   "source": [
    "optimizer = torch.optim.Adam(model2.parameters(), lr=0.001)  "
   ]
  },
  {
   "cell_type": "code",
   "execution_count": 22,
   "metadata": {},
   "outputs": [
    {
     "name": "stdout",
     "output_type": "stream",
     "text": [
      "Epoch:0: Loss:1.37 | Accuracy:29.33 | Test loss:1.36 | Test Accuracy:40.64\n",
      "Epoch:100: Loss:0.84 | Accuracy:66.27 | Test loss:0.85 | Test Accuracy:64.80\n",
      "Epoch:200: Loss:0.34 | Accuracy:87.04 | Test loss:0.32 | Test Accuracy:88.96\n",
      "Epoch:300: Loss:0.28 | Accuracy:88.51 | Test loss:0.23 | Test Accuracy:91.12\n",
      "Epoch:400: Loss:0.23 | Accuracy:91.01 | Test loss:0.25 | Test Accuracy:89.60\n",
      "Epoch:500: Loss:0.20 | Accuracy:92.59 | Test loss:0.34 | Test Accuracy:86.24\n",
      "Epoch:600: Loss:0.16 | Accuracy:94.16 | Test loss:0.24 | Test Accuracy:90.96\n",
      "Epoch:700: Loss:0.15 | Accuracy:94.45 | Test loss:0.27 | Test Accuracy:90.08\n",
      "Epoch:800: Loss:0.14 | Accuracy:94.43 | Test loss:0.54 | Test Accuracy:80.80\n",
      "Epoch:900: Loss:0.14 | Accuracy:94.48 | Test loss:0.20 | Test Accuracy:92.16\n",
      "Epoch:1000: Loss:0.12 | Accuracy:95.31 | Test loss:0.40 | Test Accuracy:85.92\n",
      "Epoch:1100: Loss:0.13 | Accuracy:95.04 | Test loss:0.22 | Test Accuracy:91.28\n",
      "Epoch:1200: Loss:0.12 | Accuracy:95.44 | Test loss:0.47 | Test Accuracy:84.56\n",
      "Epoch:1300: Loss:0.12 | Accuracy:95.57 | Test loss:0.31 | Test Accuracy:88.56\n",
      "Epoch:1400: Loss:0.12 | Accuracy:95.41 | Test loss:0.19 | Test Accuracy:91.92\n",
      "Epoch:1500: Loss:0.11 | Accuracy:95.65 | Test loss:0.39 | Test Accuracy:87.28\n",
      "Epoch:1600: Loss:0.11 | Accuracy:95.71 | Test loss:0.28 | Test Accuracy:91.12\n",
      "Epoch:1700: Loss:0.11 | Accuracy:96.13 | Test loss:0.18 | Test Accuracy:93.28\n",
      "Epoch:1800: Loss:0.11 | Accuracy:96.03 | Test loss:0.16 | Test Accuracy:94.08\n",
      "Epoch:1900: Loss:0.11 | Accuracy:96.00 | Test loss:0.24 | Test Accuracy:92.00\n",
      "Epoch:2000: Loss:0.11 | Accuracy:96.29 | Test loss:0.16 | Test Accuracy:94.64\n"
     ]
    }
   ],
   "source": [
    "torch.cuda.manual_seed(42)\n",
    "\n",
    "epochs = 2001\n",
    "\n",
    "for epoch in range(epochs):\n",
    "    model2.train()\n",
    "    \n",
    "    y_logits = model2(X_train)\n",
    "    y_pred = y_logits.argmax(dim=1)\n",
    "    \n",
    "    loss = loss_fn(y_logits, y_train)\n",
    "    acc = accuracy_fn(y_train, y_pred)\n",
    "    \n",
    "    optimizer.zero_grad()\n",
    "    loss.backward()\n",
    "    \n",
    "    optimizer.step()\n",
    "    \n",
    "    model2.eval()\n",
    "    with torch.inference_mode():\n",
    "        test_logits = model2(X_test)\n",
    "        test_pred = test_logits.argmax(dim=1)\n",
    "        \n",
    "        test_loss = loss_fn(test_logits, y_test)\n",
    "        test_acc = accuracy_fn(y_test, test_pred)\n",
    "        \n",
    "        \n",
    "    if epoch % 100 == 0:\n",
    "        print(f\"Epoch:{epoch}: Loss:{loss:.2f} | Accuracy:{acc:.2f} | Test loss:{test_loss:.2f} | Test Accuracy:{test_acc:.2f}\")"
   ]
  },
  {
   "cell_type": "markdown",
   "metadata": {},
   "source": [
    "Wow! By adding a dropout layer and normalization, the model's accuracy has improved."
   ]
  },
  {
   "cell_type": "markdown",
   "metadata": {},
   "source": [
    "There is lower chance that the model is overfit, because we have used two dropout layers that prevent the model from overfitting"
   ]
  }
 ],
 "metadata": {
  "kernelspec": {
   "display_name": "Python 3",
   "language": "python",
   "name": "python3"
  },
  "language_info": {
   "codemirror_mode": {
    "name": "ipython",
    "version": 3
   },
   "file_extension": ".py",
   "mimetype": "text/x-python",
   "name": "python",
   "nbconvert_exporter": "python",
   "pygments_lexer": "ipython3",
   "version": "3.10.10"
  }
 },
 "nbformat": 4,
 "nbformat_minor": 2
}
